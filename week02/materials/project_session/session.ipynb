{
 "cells": [
  {
   "cell_type": "markdown",
   "metadata": {},
   "source": [
    "# session\n",
    "more detail at \n",
    "* https://docs.djangoproject.com/en/1.10/ref/settings/#std:setting-SESSION_ENGINE\n",
    "* http://djangobook.com/django-sessions/\n"
   ]
  },
  {
   "cell_type": "code",
   "execution_count": 17,
   "metadata": {
    "collapsed": false
   },
   "outputs": [],
   "source": [
    "from django.contrib.sessions.models import Session\n",
    "from django.contrib.sessions.backends.db import SessionStore"
   ]
  },
  {
   "cell_type": "code",
   "execution_count": 18,
   "metadata": {
    "collapsed": false
   },
   "outputs": [
    {
     "data": {
      "text/plain": [
       "[<Session: h5364z3q0cf3qihf6i46k8t9u0j5mo3z>, <Session: 72uvyi9u0zpnqci7pv3sgcu4n57xgqp6>, <Session: vpx18rlsi5fpjdwfifin6kvp7xd65kzh>, <Session: 3dvj8qxtbn7wd7w447vdio4wsb6ie9zv>, <Session: mixp5t9vha8fep6vcdnbxo2l9dayd5r1>, <Session: qpxa5ash1b7tw8supx82tpdmhz13uz5a>, <Session: nyxxywp3ai83dyhwo2ur27iuxugfylop>]"
      ]
     },
     "execution_count": 18,
     "metadata": {},
     "output_type": "execute_result"
    }
   ],
   "source": [
    "Session.objects.all()"
   ]
  },
  {
   "cell_type": "code",
   "execution_count": 19,
   "metadata": {
    "collapsed": false
   },
   "outputs": [
    {
     "data": {
      "text/plain": [
       "datetime.datetime(2017, 2, 2, 19, 8, 43, 649000, tzinfo=<UTC>)"
      ]
     },
     "execution_count": 19,
     "metadata": {},
     "output_type": "execute_result"
    }
   ],
   "source": [
    "s=Session.objects.first()\n",
    "s.expire_date"
   ]
  },
  {
   "cell_type": "code",
   "execution_count": 21,
   "metadata": {
    "collapsed": false
   },
   "outputs": [
    {
     "data": {
      "text/plain": [
       "{u'_session_expiry': 5, u'x': 3, u'y': 3}"
      ]
     },
     "execution_count": 21,
     "metadata": {},
     "output_type": "execute_result"
    }
   ],
   "source": [
    "SessionStore().decode(s.session_data)"
   ]
  }
 ],
 "metadata": {
  "anaconda-cloud": {},
  "kernelspec": {
   "display_name": "Django Shell-Plus",
   "language": "python",
   "name": "python2"
  },
  "language_info": {
   "codemirror_mode": {
    "name": "ipython",
    "version": 2
   },
   "file_extension": ".py",
   "mimetype": "text/x-python",
   "name": "python",
   "nbconvert_exporter": "python",
   "pygments_lexer": "ipython2",
   "version": "2.7.12"
  }
 },
 "nbformat": 4,
 "nbformat_minor": 1
}
