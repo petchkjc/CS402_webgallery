{
 "cells": [
  {
   "cell_type": "code",
   "execution_count": 14,
   "metadata": {
    "collapsed": false
   },
   "outputs": [
    {
     "name": "stdout",
     "output_type": "stream",
     "text": [
      "{u'_auth_user_backend': u'django.contrib.auth.backends.ModelBackend', u'_auth_user_id': u'1', u'_auth_user_hash': u'd01fadaff8da92296cf7c942fde7c949fca042bc', u'_session_expiry': 10, u'key': [1, u'95', u'19', u'3', u'151', u'85', u'36', u'193']}\n",
      "{u'key': [1, u'29'], u'_session_expiry': 10}\n",
      "{u'key': [1, u'111'], u'_session_expiry': 10}\n",
      "{u'_session_expiry': 10, u'key': [1, u'31', u'144']}\n",
      "{u'key': [4, u'76'], u'_session_expiry': 10}\n",
      "{u'_session_expiry': 10, u'key': [9, u'172', u'27']}\n",
      "{}\n",
      "{u'key': [9, u'94'], u'_session_expiry': 10}\n",
      "{u'_auth_user_hash': u'd01fadaff8da92296cf7c942fde7c949fca042bc', u'_auth_user_id': u'1', u'_auth_user_backend': u'django.contrib.auth.backends.ModelBackend'}\n",
      "{}\n",
      "{u'person_id': 12, u'image_id': [u'181'], u'_session_expiry': 10}\n",
      "{u'person_id': 13, u'image_id': [u'40'], u'_session_expiry': 10}\n",
      "{u'_auth_user_hash': u'd01fadaff8da92296cf7c942fde7c949fca042bc', u'_auth_user_id': u'1', u'_auth_user_backend': u'django.contrib.auth.backends.ModelBackend'}\n",
      "{u'person_id': 14, u'image_id': [u'130'], u'_session_expiry': 10}\n",
      "{u'_auth_user_hash': u'd01fadaff8da92296cf7c942fde7c949fca042bc', u'_auth_user_id': u'1', u'_auth_user_backend': u'django.contrib.auth.backends.ModelBackend'}\n",
      "{u'person_id': 15, u'image_id': [u'81'], u'_session_expiry': 10}\n",
      "{u'person_id': 16, u'image_id': [u'24'], u'_session_expiry': 10}\n",
      "{u'person_id': 17, u'image_id': [u'165'], u'_session_expiry': 10}\n",
      "{u'person_id': 18, u'image_id': [u'119'], u'_session_expiry': 10}\n",
      "{u'person_id': 19, u'image_id': [u'17', u'17', u'9', u'101', u'159', u'53', u'122'], u'_session_expiry': 10}\n",
      "{u'person_id': 20, u'image_id': [u'40', u'154', u'159', u'65'], u'_session_expiry': 10}\n",
      "{u'person_id': 21, u'image_id': [u'196', u'185', u'67', u'124', u'34', u'95'], u'_session_expiry': 10}\n"
     ]
    }
   ],
   "source": [
    "from django.contrib.sessions.models import Session\n",
    "from django.contrib.sessions.backends.db import SessionStore\n",
    "for i in Session.objects.all():\n",
    "#     i.delete()\n",
    "    print SessionStore().decode(i.session_data)"
   ]
  },
  {
   "cell_type": "code",
   "execution_count": 10,
   "metadata": {
    "collapsed": false
   },
   "outputs": [
    {
     "name": "stdout",
     "output_type": "stream",
     "text": [
      "id: 1, name:test\n"
     ]
    }
   ],
   "source": [
    "for p in Person.objects.all():\n",
    "#     p.delete()\n",
    "    print \"id: %s, name:%s\"%(p.id,p.name)"
   ]
  },
  {
   "cell_type": "code",
   "execution_count": null,
   "metadata": {
    "collapsed": true
   },
   "outputs": [],
   "source": []
  }
 ],
 "metadata": {
  "kernelspec": {
   "display_name": "Django Shell-Plus",
   "language": "python",
   "name": "django_extensions"
  },
  "language_info": {
   "codemirror_mode": {
    "name": "ipython",
    "version": 2
   },
   "file_extension": ".py",
   "mimetype": "text/x-python",
   "name": "python",
   "nbconvert_exporter": "python",
   "pygments_lexer": "ipython2",
   "version": "2.7.13"
  }
 },
 "nbformat": 4,
 "nbformat_minor": 2
}
