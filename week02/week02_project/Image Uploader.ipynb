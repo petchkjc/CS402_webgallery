{
 "cells": [
  {
   "cell_type": "code",
   "execution_count": 1,
   "metadata": {
    "collapsed": true
   },
   "outputs": [],
   "source": [
    "import os"
   ]
  },
  {
   "cell_type": "code",
   "execution_count": null,
   "metadata": {
    "collapsed": true
   },
   "outputs": [],
   "source": [
    "qwer1234"
   ]
  },
  {
   "cell_type": "code",
   "execution_count": 5,
   "metadata": {
    "collapsed": false
   },
   "outputs": [
    {
     "name": "stdout",
     "output_type": "stream",
     "text": [
      "..\\materials\\bert\n"
     ]
    },
    {
     "data": {
      "text/plain": [
       "['adidas.jpg',\n",
       " 'alice_big.jpg',\n",
       " 'alien.jpg',\n",
       " 'animals.jpg',\n",
       " 'apple.jpg',\n",
       " 'ass.jpg',\n",
       " 'bang.jpg',\n",
       " 'batman.jpg',\n",
       " 'bear.jpg',\n",
       " 'beer.jpg',\n",
       " 'blackgold_marble.jpg',\n",
       " 'black_marble.jpg',\n",
       " 'blue_1.jpg',\n",
       " 'blue_fabric.jpg',\n",
       " 'breakfast.jpg',\n",
       " 'bringit.jpg',\n",
       " 'bunny_1.jpg',\n",
       " 'burberry_1.jpg',\n",
       " 'burberry_2.png',\n",
       " 'cactus.jpg',\n",
       " 'cactus2.jpg',\n",
       " 'cat.jpg',\n",
       " 'cat_1.png',\n",
       " 'cat_2.jpg',\n",
       " 'cat_3.jpg',\n",
       " 'cat_4.jpg',\n",
       " 'chanel.jpg',\n",
       " 'christmas_1.jpg',\n",
       " 'city_8bit.png',\n",
       " 'cloud_cartoon.jpg',\n",
       " 'cloud_purple.jpg',\n",
       " 'cupcake_rainbow.jpg',\n",
       " 'dear_dot.png',\n",
       " 'dog_1.jpg',\n",
       " 'donut_pink.jpg',\n",
       " 'donut_withe.jpg',\n",
       " 'draw_1.png',\n",
       " 'draw_2.png',\n",
       " 'draw_3.png',\n",
       " 'draw_4.png',\n",
       " 'eggs.jpg',\n",
       " 'food_8bit.jpg',\n",
       " 'food_mc.jpg',\n",
       " 'forest.jpg',\n",
       " 'frenchfries.jpg',\n",
       " 'fuji.jpg',\n",
       " 'fxxk.jpg',\n",
       " 'galaxy_1.jpg',\n",
       " 'galaxy_2.png',\n",
       " 'galaxy_3.jpg',\n",
       " 'galaxy_4.jpg',\n",
       " 'galaxy_5.jpg',\n",
       " 'galaxy_6.jpg',\n",
       " 'galaxy_7.jpg',\n",
       " 'ghost_1.jpg',\n",
       " 'ghost_2.jpg',\n",
       " 'godzilla.jpg',\n",
       " 'golden_marble.jpg',\n",
       " 'grid_black.jpg',\n",
       " 'grid_yellow.jpg',\n",
       " 'he.jpg',\n",
       " 'heart_8bit.jpg',\n",
       " 'hologram_1.jpg',\n",
       " 'hologram_2.jpg',\n",
       " 'hologram_3.jpg',\n",
       " 'hologram_4.jpg',\n",
       " 'ice.jpg',\n",
       " 'icecream_mint.jpg',\n",
       " 'icecream_pink.jpg',\n",
       " 'louis-vuitton.jpg',\n",
       " 'lv.jpg',\n",
       " 'marble_black.jpg',\n",
       " 'marble_white.jpg',\n",
       " 'mickey_1.jpg',\n",
       " 'mickey_2.jpg',\n",
       " 'Mountian.jpg',\n",
       " 'nike.jpg',\n",
       " 'nutella.jpg',\n",
       " 'ocean.jpg',\n",
       " 'oreo.jpg',\n",
       " 'panda.jpg',\n",
       " 'PANTONE_pinkblue.jpg',\n",
       " 'PANTONE_purple.jpg',\n",
       " 'penguin_big.png',\n",
       " 'photothumb.db',\n",
       " 'pineapple_1.jpg',\n",
       " 'pineapple_2.jpg',\n",
       " 'pizza.jpg',\n",
       " 'plain_blue.jpg',\n",
       " 'plain_crimsonred.jpg',\n",
       " 'plain_dark.jpg',\n",
       " 'plain_darkblue.jpg',\n",
       " 'plain_iceberg.jpg',\n",
       " 'plain_mint.jpg',\n",
       " 'plain_orange.jpg',\n",
       " 'plain_pistachio.jpg',\n",
       " 'plain_purple.jpg',\n",
       " 'plain_red.jpg',\n",
       " 'plain_rosered.jpg',\n",
       " 'plain_silver.jpg',\n",
       " 'plain_white.jpg',\n",
       " 'plain_yellow.jpg',\n",
       " 'pokemon_1.jpg',\n",
       " 'pokemon_2.jpg',\n",
       " 'pokemon_3.png',\n",
       " 'pooh.jpg',\n",
       " 'popcorn.jpg',\n",
       " 'power_ranger.jpg',\n",
       " 'rawbear.jpg',\n",
       " 'rilakkuma_pink.jpg',\n",
       " 'rocket_paper.jpg',\n",
       " 'sea.jpg',\n",
       " 'sea2.png',\n",
       " 'shark_pastel.jpg',\n",
       " 'she.jpg',\n",
       " 'simpson_1.jpg',\n",
       " 'skull_blur.jpg',\n",
       " 'sky.jpg',\n",
       " 'sky2.jpg',\n",
       " 'sky_dark.jpg',\n",
       " 'smoke_blackwhite.jpg',\n",
       " 'smoke_dark.jpg',\n",
       " 'smoke_redblue.jpg',\n",
       " 'smoke_silverred.jpg',\n",
       " 'smore.jpg',\n",
       " 'smore2.jpg',\n",
       " 'snowfall.jpg',\n",
       " 'spongebob_1.jpg',\n",
       " 'spongebob_2.jpg',\n",
       " 'starbucks_brown.jpg',\n",
       " 'starbucks_pink.jpg',\n",
       " 'starwar_1.jpg',\n",
       " 'starwar_2.jpg',\n",
       " 'starwar_3.jpg',\n",
       " 'superman.jpg',\n",
       " 'supreme.jpg',\n",
       " 'sushi.jpg',\n",
       " 'taro_green.jpg',\n",
       " 'turtle_ninja.jpg',\n",
       " 'underwater.jpg',\n",
       " 'unicorn_blue.jpg',\n",
       " 'univers11.jpg.jpg',\n",
       " 'universe.jpg',\n",
       " 'universe10.jpg.jpg',\n",
       " 'universe12.jpg.jpg',\n",
       " 'universe13.jpg.jpg',\n",
       " 'universe2.jpg',\n",
       " 'universe3.jpg',\n",
       " 'universe4.jpg',\n",
       " 'universe5.jpg.jpg',\n",
       " 'universe6.jpg.jpg',\n",
       " 'universe7.jpg.jpg',\n",
       " 'universe8.jpg.jpg',\n",
       " 'universe9.jpg.jpg',\n",
       " 'wavy_blue.jpg',\n",
       " 'we.jpg',\n",
       " 'whale.jpg',\n",
       " 'white_marble2.jpg',\n",
       " 'white_marble3.jpg']"
      ]
     },
     "execution_count": 5,
     "metadata": {},
     "output_type": "execute_result"
    }
   ],
   "source": [
    "path=os.path.join('..','materials','bert')\n",
    "print path\n",
    "os.listdir(path)\n"
   ]
  },
  {
   "cell_type": "code",
   "execution_count": 6,
   "metadata": {
    "collapsed": false
   },
   "outputs": [
    {
     "data": {
      "text/plain": [
       "[<Image: Image object>, <Image: Image object>]"
      ]
     },
     "execution_count": 6,
     "metadata": {},
     "output_type": "execute_result"
    }
   ],
   "source": [
    "Image.objects.all()"
   ]
  },
  {
   "cell_type": "code",
   "execution_count": 7,
   "metadata": {
    "collapsed": false
   },
   "outputs": [
    {
     "name": "stdout",
     "output_type": "stream",
     "text": [
      "Image object\n",
      "Image object\n"
     ]
    }
   ],
   "source": [
    "for i in Image.objects.all():\n",
    "    i."
   ]
  },
  {
   "cell_type": "code",
   "execution_count": null,
   "metadata": {
    "collapsed": true
   },
   "outputs": [],
   "source": [
    "i.image."
   ]
  }
 ],
 "metadata": {
  "anaconda-cloud": {},
  "kernelspec": {
   "display_name": "Django Shell-Plus",
   "language": "python",
   "name": "python2"
  },
  "language_info": {
   "codemirror_mode": {
    "name": "ipython",
    "version": 2
   },
   "file_extension": ".py",
   "mimetype": "text/x-python",
   "name": "python",
   "nbconvert_exporter": "python",
   "pygments_lexer": "ipython2",
   "version": "2.7.12"
  }
 },
 "nbformat": 4,
 "nbformat_minor": 1
}
