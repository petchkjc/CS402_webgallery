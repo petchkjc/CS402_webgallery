{
 "cells": [
  {
   "cell_type": "code",
   "execution_count": 1,
   "metadata": {
    "collapsed": false
   },
   "outputs": [
    {
     "name": "stdout",
     "output_type": "stream",
     "text": [
      "cd C:\\Users\\AzEulB\\cs459\\cs459_django\\week02\\week02_project\n",
      "removing C:\\Users\\AzEulB\\cs459\\cs459_django\\week02\\week02_project\\db.sqlite3\n"
     ]
    },
    {
     "ename": "WindowsError",
     "evalue": "[Error 32] The process cannot access the file because it is being used by another process: 'C:\\\\Users\\\\AzEulB\\\\cs459\\\\cs459_django\\\\week02\\\\week02_project\\\\db.sqlite3'",
     "output_type": "error",
     "traceback": [
      "\u001b[0;31m---------------------------------------------------------------------------\u001b[0m",
      "\u001b[0;31mWindowsError\u001b[0m                              Traceback (most recent call last)",
      "\u001b[0;32m<ipython-input-1-a6b2ac5b002d>\u001b[0m in \u001b[0;36m<module>\u001b[0;34m()\u001b[0m\n\u001b[1;32m      8\u001b[0m  \u001b[1;32mif\u001b[0m \u001b[0mfnmatch\u001b[0m\u001b[1;33m.\u001b[0m\u001b[0mfnmatch\u001b[0m\u001b[1;33m(\u001b[0m\u001b[0mf\u001b[0m\u001b[1;33m,\u001b[0m \u001b[1;34m'*.sqlite3'\u001b[0m\u001b[1;33m)\u001b[0m\u001b[1;33m:\u001b[0m\u001b[1;33m\u001b[0m\u001b[0m\n\u001b[1;32m      9\u001b[0m   \u001b[1;32mprint\u001b[0m \u001b[1;34m\"removing %s\"\u001b[0m\u001b[1;33m%\u001b[0m\u001b[1;33m(\u001b[0m\u001b[0mos\u001b[0m\u001b[1;33m.\u001b[0m\u001b[0mpath\u001b[0m\u001b[1;33m.\u001b[0m\u001b[0mjoin\u001b[0m\u001b[1;33m(\u001b[0m\u001b[0mROOT_PATH\u001b[0m\u001b[1;33m,\u001b[0m\u001b[0mf\u001b[0m\u001b[1;33m)\u001b[0m\u001b[1;33m)\u001b[0m\u001b[1;33m\u001b[0m\u001b[0m\n\u001b[0;32m---> 10\u001b[0;31m   \u001b[0mos\u001b[0m\u001b[1;33m.\u001b[0m\u001b[0mremove\u001b[0m\u001b[1;33m(\u001b[0m\u001b[0mos\u001b[0m\u001b[1;33m.\u001b[0m\u001b[0mpath\u001b[0m\u001b[1;33m.\u001b[0m\u001b[0mjoin\u001b[0m\u001b[1;33m(\u001b[0m\u001b[0mcd\u001b[0m\u001b[1;33m,\u001b[0m\u001b[0mf\u001b[0m\u001b[1;33m)\u001b[0m\u001b[1;33m)\u001b[0m\u001b[1;33m\u001b[0m\u001b[0m\n\u001b[0m\u001b[1;32m     11\u001b[0m \u001b[0mcd\u001b[0m\u001b[1;33m=\u001b[0m\u001b[0mos\u001b[0m\u001b[1;33m.\u001b[0m\u001b[0mpath\u001b[0m\u001b[1;33m.\u001b[0m\u001b[0mjoin\u001b[0m\u001b[1;33m(\u001b[0m\u001b[0mROOT_PATH\u001b[0m\u001b[1;33m,\u001b[0m\u001b[0mAPP_NAME\u001b[0m\u001b[1;33m,\u001b[0m\u001b[1;34m\"migrations\"\u001b[0m\u001b[1;33m)\u001b[0m\u001b[1;33m\u001b[0m\u001b[0m\n\u001b[1;32m     12\u001b[0m \u001b[1;32mprint\u001b[0m \u001b[1;34m\"cd %s\"\u001b[0m\u001b[1;33m%\u001b[0m\u001b[0mcd\u001b[0m\u001b[1;33m\u001b[0m\u001b[0m\n",
      "\u001b[0;31mWindowsError\u001b[0m: [Error 32] The process cannot access the file because it is being used by another process: 'C:\\\\Users\\\\AzEulB\\\\cs459\\\\cs459_django\\\\week02\\\\week02_project\\\\db.sqlite3'"
     ]
    }
   ],
   "source": [
    "import fnmatch\n",
    "import os\n",
    "ROOT_PATH=os.path.abspath('.')\n",
    "APP_NAME='myapp'\n",
    "cd=ROOT_PATH\n",
    "print \"cd %s\"%cd\n",
    "for f in os.listdir(cd):\n",
    " if fnmatch.fnmatch(f, '*.sqlite3'):\n",
    "  print \"removing %s\"%(os.path.join(ROOT_PATH,f))\n",
    "  os.remove(os.path.join(cd,f))\n",
    "cd=os.path.join(ROOT_PATH,APP_NAME,\"migrations\")\n",
    "print \"cd %s\"%cd\n",
    "for f in os.listdir(cd):\n",
    " if fnmatch.fnmatch(f, '*.pyc'):\n",
    "  print \"removing %s\"%(os.path.join(cd,f))\n",
    "  os.remove(os.path.join(cd,f))\n",
    " elif fnmatch.fnmatch(f, '0*.py'):\n",
    "  print \"removing %s\"%(os.path.join(cd,f))\n",
    "  os.remove(os.path.join(cd,f))\n",
    "import os\n",
    "import sys\n",
    "import subprocess\n",
    "manage = os.path.join(ROOT_PATH , \"manage.py\")\n",
    "print subprocess.check_output([sys.executable, manage, \"makemigrations\",\"--noinput\"])\n",
    "print subprocess.check_output([sys.executable, manage, \"migrate\",\"--noinput\"])\n",
    "import pydot\n",
    "import time\n",
    "timestr = time.strftime(\"%y%m%d_%H%M%S\")\n",
    "dotstr=subprocess.check_output([sys.executable, manage, \"graph_models\", \"-a\"])\n",
    "graph = pydot.graph_from_dot_data(dotstr)\n",
    "graph.write_png(timestr + '.png')\n",
    "from IPython.display import display, Markdown, Latex\n",
    "md='''<img src=\"%s\",width=60,height=60>'''%(timestr + '.png')\n",
    "display(Markdown(md))\n"
   ]
  },
  {
   "cell_type": "code",
   "execution_count": null,
   "metadata": {
    "collapsed": true
   },
   "outputs": [],
   "source": []
  }
 ],
 "metadata": {
  "kernelspec": {
   "display_name": "Django Shell-Plus",
   "language": "python",
   "name": "django_extensions"
  },
  "language_info": {
   "codemirror_mode": {
    "name": "ipython",
    "version": 2
   },
   "file_extension": ".py",
   "mimetype": "text/x-python",
   "name": "python",
   "nbconvert_exporter": "python",
   "pygments_lexer": "ipython2",
   "version": "2.7.13"
  }
 },
 "nbformat": 4,
 "nbformat_minor": 2
}
